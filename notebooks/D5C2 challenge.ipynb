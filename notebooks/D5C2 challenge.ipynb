{
 "cells": [
  {
   "cell_type": "code",
   "execution_count": 2,
   "metadata": {
    "collapsed": false
   },
   "outputs": [],
   "source": [
    "from dreamtools import D5C2"
   ]
  },
  {
   "cell_type": "code",
   "execution_count": 3,
   "metadata": {
    "collapsed": true
   },
   "outputs": [],
   "source": [
    "# Create an D5C2 challenge \n",
    "c = D5C2()"
   ]
  },
  {
   "cell_type": "code",
   "execution_count": 4,
   "metadata": {
    "collapsed": true
   },
   "outputs": [],
   "source": [
    "# Download a template example\n",
    "filename = c.download_template()"
   ]
  },
  {
   "cell_type": "code",
   "execution_count": 5,
   "metadata": {
    "collapsed": true
   },
   "outputs": [
    {
     "name": "stdout",
     "output_type": "stream",
     "text": [
      "Loading user data set (step 1 out of 5)\n",
      "Loading the gold standard and user prediction. Takes a few seconds (step 2 out 5\n",
      " [-----------------100%-----------------] 5 of 5 complete in 4.3 sec\n",
      "Processing\n",
      "Splitting data sets (step 3 out of 5)\n",
      "Splitting the user data set and removing flagged data (47560 out of 2668248)\n",
      " [-----------------100%-----------------] 66 of 66 complete in 19.7 sec\n",
      "Computing probes (step 4 out of 5)\n",
      "Reading probes\n",
      "Creating probes/TF_1.csv + sorting\n",
      " [-----------------100%-----------------] 66 of 66 complete in 22.1 sec\n",
      "Computing performances (step 5 out of 5)\n",
      " [                  0%                  ] 0 of 66 complete in 0.0 sec"
     ]
    },
    {
     "name": "stderr",
     "output_type": "stream",
     "text": [
      "/home/cokelaer/Work/github/dreamtools/dreamtools/dream5/D5C2/scoring.py:241: FutureWarning: sort(columns=....) is deprecated, use sort_values(by=.....)\n",
      "  ascending=[False, False], inplace=True)\n",
      "/home/cokelaer/Work/github/dreamtools/dreamtools/dream5/D5C2/scoring.py:288: FutureWarning: sort(columns=....) is deprecated, use sort_values(by=.....)\n",
      "  df.sort(columns=[1,0], ascending=[False, False], inplace=True)\n"
     ]
    },
    {
     "name": "stdout",
     "output_type": "stream",
     "text": [
      " [-----------------100%-----------------] 66 of 66 complete in 195.0 secooooooooooo\n",
      " [-----------------100%-----------------] 66 of 66 complete in 21.9 sec\n",
      " [-----------------100%-----------------] 66 of 66 complete in 3.2 sec"
     ]
    },
    {
     "name": "stderr",
     "output_type": "stream",
     "text": [
      "/home/cokelaer/Work/github/dreamtools/dreamtools/dream5/D5C2/scoring.py:411: FutureWarning: sort(columns=....) is deprecated, use sort_values(by=.....)\n",
      "  table = table.sort(columns=['Final Rank'])\n"
     ]
    }
   ],
   "source": [
    "# Score it\n",
    "results = c.score(filename)"
   ]
  },
  {
   "cell_type": "code",
   "execution_count": 6,
   "metadata": {
    "collapsed": false
   },
   "outputs": [
    {
     "name": "stdout",
     "output_type": "stream",
     "text": [
      " [-----------------100%-----------------] 66 of 66 complete in 3.2 sec"
     ]
    }
   ],
   "source": [
    "# This challenge implementation has a plotting function that shows the user prediction versus real values\n",
    "# using the different metrics shown above\n",
    "c.plot()"
   ]
  }
 ],
 "metadata": {
  "kernelspec": {
   "display_name": "Python 2",
   "language": "python",
   "name": "python2"
  },
  "language_info": {
   "codemirror_mode": {
    "name": "ipython",
    "version": 2
   },
   "file_extension": ".py",
   "mimetype": "text/x-python",
   "name": "python",
   "nbconvert_exporter": "python",
   "pygments_lexer": "ipython2",
   "version": "2.7.5"
  }
 },
 "nbformat": 4,
 "nbformat_minor": 0
}
