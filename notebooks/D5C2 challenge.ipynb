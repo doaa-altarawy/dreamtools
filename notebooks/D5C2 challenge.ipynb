{
 "cells": [
  {
   "cell_type": "code",
   "execution_count": 7,
   "metadata": {
    "collapsed": false
   },
   "outputs": [
    {
     "name": "stdout",
     "output_type": "stream",
     "text": [
      "Populating the interactive namespace from numpy and matplotlib\n"
     ]
    }
   ],
   "source": [
    "%pylab inline\n"
   ]
  },
  {
   "cell_type": "code",
   "execution_count": 2,
   "metadata": {
    "collapsed": false
   },
   "outputs": [],
   "source": [
    "from dreamtools import D5C2"
   ]
  },
  {
   "cell_type": "code",
   "execution_count": 3,
   "metadata": {
    "collapsed": true
   },
   "outputs": [],
   "source": [
    "# Create an D5C2 challenge \n",
    "c = D5C2()"
   ]
  },
  {
   "cell_type": "code",
   "execution_count": 4,
   "metadata": {
    "collapsed": true
   },
   "outputs": [],
   "source": [
    "# Download a template example\n",
    "filename = c.download_template()"
   ]
  },
  {
   "cell_type": "code",
   "execution_count": 5,
   "metadata": {
    "collapsed": false
   },
   "outputs": [
    {
     "name": "stdout",
     "output_type": "stream",
     "text": [
      "Loading user data set (step 1 out of 5)\n",
      "Loading the gold standard and user prediction. Takes a few seconds (step 2 out 5\n",
      " [-----------------100%-----------------] 5 of 5 complete in 3.7 sec\n",
      "Processing\n",
      "Splitting data sets (step 3 out of 5)\n",
      "Splitting the user data set and removing flagged data (47560 out of 2668248)\n",
      " [-----------------100%-----------------] 66 of 66 complete in 19.6 sec\n",
      "Computing probes (step 4 out of 5)\n",
      "Reading probes\n",
      "Creating probes/TF_1.csv + sorting\n",
      " [-----------------100%-----------------] 66 of 66 complete in 21.5 sec\n",
      "Computing performances (step 5 out of 5)\n",
      " [-----------------100%-----------------] 66 of 66 complete in 21.0 sec\n",
      " [-----------------100%-----------------] 66 of 66 complete in 2.9 sec"
     ]
    }
   ],
   "source": [
    "# Score it\n",
    "results = c.score(filename)"
   ]
  },
  {
   "cell_type": "code",
   "execution_count": 8,
   "metadata": {
    "collapsed": false
   },
   "outputs": [
    {
     "name": "stdout",
     "output_type": "stream",
     "text": [
      " [-----------------100%-----------------] 66 of 66 complete in 3.1 sec"
     ]
    },
    {
     "data": {
      "image/png": "[encoded data removed]",
      "text/plain": [
       "<matplotlib.figure.Figure at 0x6424610>"
      ]
     },
     "metadata": {},
     "output_type": "display_data"
    }
   ],
   "source": [
    "# This challenge implementation has a plotting function that shows the user prediction versus real values\n",
    "# using the different metrics shown above\n",
    "c.plot()"
   ]
  },
  {
   "cell_type": "code",
   "execution_count": null,
   "metadata": {
    "collapsed": true
   },
   "outputs": [],
   "source": []
  }
 ],
 "metadata": {
  "kernelspec": {
   "display_name": "Python 2",
   "language": "python",
   "name": "python2"
  },
  "language_info": {
   "codemirror_mode": {
    "name": "ipython",
    "version": 2
   },
   "file_extension": ".py",
   "mimetype": "text/x-python",
   "name": "python",
   "nbconvert_exporter": "python",
   "pygments_lexer": "ipython2",
   "version": "2.7.5"
  }
 },
 "nbformat": 4,
 "nbformat_minor": 0
}
