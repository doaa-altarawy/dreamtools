{
 "cells": [
  {
   "cell_type": "markdown",
   "metadata": {},
   "source": [
    "# D5C2 challenge (Transcription Factor DNA Motif Recognition)"
   ]
  },
  {
   "cell_type": "code",
   "execution_count": 9,
   "metadata": {
    "collapsed": false
   },
   "outputs": [
    {
     "name": "stdout",
     "output_type": "stream",
     "text": [
      "Populating the interactive namespace from numpy and matplotlib\n"
     ]
    }
   ],
   "source": [
    "%pylab inline\n",
    "matplotlib.rcParams['figure.figsize'] = (12,8)"
   ]
  },
  {
   "cell_type": "code",
   "execution_count": 10,
   "metadata": {
    "collapsed": false
   },
   "outputs": [],
   "source": [
    "from dreamtools import D5C2"
   ]
  },
  {
   "cell_type": "code",
   "execution_count": 11,
   "metadata": {
    "collapsed": true
   },
   "outputs": [],
   "source": [
    "c = D5C2()"
   ]
  },
  {
   "cell_type": "code",
   "execution_count": 12,
   "metadata": {
    "collapsed": true
   },
   "outputs": [],
   "source": [
    "# To speed up the demo, we look at 2 TF only (instead of 66)\n",
    "c.Ntf = 2"
   ]
  },
  {
   "cell_type": "code",
   "execution_count": 13,
   "metadata": {
    "collapsed": true
   },
   "outputs": [],
   "source": [
    "filename = c.download_template()"
   ]
  },
  {
   "cell_type": "code",
   "execution_count": 6,
   "metadata": {
    "collapsed": false
   },
   "outputs": [
    {
     "name": "stdout",
     "output_type": "stream",
     "text": [
      "Loading user data set (step 1 out of 5)\n",
      "Loading the gold standard and user prediction. Takes a few seconds (step 2 out 5\n",
      " [-----------------100%-----------------] 5 of 5 complete in 4.0 sec\n",
      "Processing\n",
      "Splitting data sets (step 3 out of 5)\n",
      "Splitting the user data set and removing flagged data (47560 out of 2668248)\n",
      " [-----------------100%-----------------] 2 of 2 complete in 0.6 sec\n",
      "Computing probes (step 4 out of 5)\n",
      "Reading probes\n",
      "Creating probes/TF_1.csv + sorting\n",
      " [-----------------100%-----------------] 2 of 2 complete in 1.3 sec\n",
      "Computing performances (step 5 out of 5)\n",
      " [-----------------100%-----------------] 2 of 2 complete in 5.6 sec\n",
      " [-----------------100%-----------------] 2 of 2 complete in 0.4 sec\n",
      " [-----------------100%-----------------] 2 of 2 complete in 0.1 sec"
     ]
    }
   ],
   "source": [
    "results = c.score(filename)"
   ]
  },
  {
   "cell_type": "markdown",
   "metadata": {},
   "source": [
    "The results contains some metrics but the final score (ranking)\n",
    "is based on the Pearson correlation. "
   ]
  },
  {
   "cell_type": "code",
   "execution_count": 7,
   "metadata": {
    "collapsed": false
   },
   "outputs": [
    {
     "data": {
      "text/plain": [
       "Team                     Your team\n",
       "Model type              Your model\n",
       "Final Rank                      11\n",
       "Final Rank (average)            10\n",
       "Pearson                  0.5129504\n",
       "Pearson_Log              0.5647245\n",
       "Spearman                 0.5598198\n",
       "AUPR_8mer                 0.245946\n",
       "AUROC_8mer               0.9190214\n",
       "Name: 20, dtype: object"
      ]
     },
     "execution_count": 7,
     "metadata": {},
     "output_type": "execute_result"
    }
   ],
   "source": [
    "results"
   ]
  },
  {
   "cell_type": "code",
   "execution_count": 8,
   "metadata": {
    "collapsed": false
   },
   "outputs": [
    {
     "name": "stdout",
     "output_type": "stream",
     "text": [
      " [-----------------100%-----------------] 2 of 2 complete in 0.1 sec"
     ]
    },
    {
     "data": {
      "text/html": [
       "<div>\n",
       "<table border=\"1\" class=\"dataframe\">\n",
       "  <thead>\n",
       "    <tr style=\"text-align: right;\">\n",
       "      <th></th>\n",
       "      <th>Team</th>\n",
       "      <th>Model type</th>\n",
       "      <th>Final Rank</th>\n",
       "      <th>Final Rank (average)</th>\n",
       "      <th>Pearson</th>\n",
       "      <th>Pearson_Log</th>\n",
       "      <th>Spearman</th>\n",
       "      <th>AUPR_8mer</th>\n",
       "      <th>AUROC_8mer</th>\n",
       "    </tr>\n",
       "  </thead>\n",
       "  <tbody>\n",
       "    <tr>\n",
       "      <th>6</th>\n",
       "      <td>Team_D</td>\n",
       "      <td>k-mer</td>\n",
       "      <td>1</td>\n",
       "      <td>1.8</td>\n",
       "      <td>0.64130</td>\n",
       "      <td>0.674200</td>\n",
       "      <td>0.63940</td>\n",
       "      <td>0.699700</td>\n",
       "      <td>0.994200</td>\n",
       "    </tr>\n",
       "    <tr>\n",
       "      <th>8</th>\n",
       "      <td>Team_F</td>\n",
       "      <td>Other</td>\n",
       "      <td>2</td>\n",
       "      <td>3.8</td>\n",
       "      <td>0.61030</td>\n",
       "      <td>0.673200</td>\n",
       "      <td>0.65550</td>\n",
       "      <td>0.545600</td>\n",
       "      <td>0.976600</td>\n",
       "    </tr>\n",
       "    <tr>\n",
       "      <th>7</th>\n",
       "      <td>Team_E</td>\n",
       "      <td>PWM</td>\n",
       "      <td>3</td>\n",
       "      <td>4.0</td>\n",
       "      <td>0.63750</td>\n",
       "      <td>0.693600</td>\n",
       "      <td>0.67350</td>\n",
       "      <td>0.522300</td>\n",
       "      <td>0.952400</td>\n",
       "    </tr>\n",
       "    <tr>\n",
       "      <th>9</th>\n",
       "      <td>Team_G</td>\n",
       "      <td>k-mer</td>\n",
       "      <td>4</td>\n",
       "      <td>4.6</td>\n",
       "      <td>0.57280</td>\n",
       "      <td>0.620700</td>\n",
       "      <td>0.57350</td>\n",
       "      <td>0.673900</td>\n",
       "      <td>0.994200</td>\n",
       "    </tr>\n",
       "    <tr>\n",
       "      <th>12</th>\n",
       "      <td>Team_J</td>\n",
       "      <td>Other</td>\n",
       "      <td>5</td>\n",
       "      <td>5.0</td>\n",
       "      <td>0.61170</td>\n",
       "      <td>0.650000</td>\n",
       "      <td>0.62270</td>\n",
       "      <td>0.524400</td>\n",
       "      <td>0.964900</td>\n",
       "    </tr>\n",
       "    <tr>\n",
       "      <th>11</th>\n",
       "      <td>Team_I</td>\n",
       "      <td>Other</td>\n",
       "      <td>6</td>\n",
       "      <td>5.8</td>\n",
       "      <td>0.58140</td>\n",
       "      <td>0.647500</td>\n",
       "      <td>0.69210</td>\n",
       "      <td>0.306000</td>\n",
       "      <td>0.943950</td>\n",
       "    </tr>\n",
       "    <tr>\n",
       "      <th>5</th>\n",
       "      <td>Team_C</td>\n",
       "      <td>Other</td>\n",
       "      <td>7</td>\n",
       "      <td>8.2</td>\n",
       "      <td>0.51840</td>\n",
       "      <td>0.522700</td>\n",
       "      <td>0.48370</td>\n",
       "      <td>0.530400</td>\n",
       "      <td>0.974700</td>\n",
       "    </tr>\n",
       "    <tr>\n",
       "      <th>10</th>\n",
       "      <td>Team_H</td>\n",
       "      <td>Other</td>\n",
       "      <td>8</td>\n",
       "      <td>8.4</td>\n",
       "      <td>0.46880</td>\n",
       "      <td>0.417100</td>\n",
       "      <td>0.36690</td>\n",
       "      <td>0.675900</td>\n",
       "      <td>0.990600</td>\n",
       "    </tr>\n",
       "    <tr>\n",
       "      <th>2</th>\n",
       "      <td>Team_9</td>\n",
       "      <td>Other</td>\n",
       "      <td>9</td>\n",
       "      <td>8.8</td>\n",
       "      <td>0.49730</td>\n",
       "      <td>0.575000</td>\n",
       "      <td>0.56170</td>\n",
       "      <td>0.248400</td>\n",
       "      <td>0.940500</td>\n",
       "    </tr>\n",
       "    <tr>\n",
       "      <th>3</th>\n",
       "      <td>Team_A</td>\n",
       "      <td>k-mer</td>\n",
       "      <td>10</td>\n",
       "      <td>9.4</td>\n",
       "      <td>0.53350</td>\n",
       "      <td>0.460500</td>\n",
       "      <td>0.43100</td>\n",
       "      <td>0.583700</td>\n",
       "      <td>0.924600</td>\n",
       "    </tr>\n",
       "    <tr>\n",
       "      <th>20</th>\n",
       "      <td>Your team</td>\n",
       "      <td>Your model</td>\n",
       "      <td>11</td>\n",
       "      <td>10.0</td>\n",
       "      <td>0.51295</td>\n",
       "      <td>0.564724</td>\n",
       "      <td>0.55982</td>\n",
       "      <td>0.245946</td>\n",
       "      <td>0.919021</td>\n",
       "    </tr>\n",
       "    <tr>\n",
       "      <th>13</th>\n",
       "      <td>Team_K</td>\n",
       "      <td>k-mer</td>\n",
       "      <td>12</td>\n",
       "      <td>11.0</td>\n",
       "      <td>0.46120</td>\n",
       "      <td>0.540200</td>\n",
       "      <td>0.53130</td>\n",
       "      <td>0.155900</td>\n",
       "      <td>0.930400</td>\n",
       "    </tr>\n",
       "    <tr>\n",
       "      <th>0</th>\n",
       "      <td>Team_12</td>\n",
       "      <td>k-mer</td>\n",
       "      <td>13</td>\n",
       "      <td>11.2</td>\n",
       "      <td>0.46110</td>\n",
       "      <td>0.543800</td>\n",
       "      <td>0.53820</td>\n",
       "      <td>0.150300</td>\n",
       "      <td>0.929300</td>\n",
       "    </tr>\n",
       "    <tr>\n",
       "      <th>4</th>\n",
       "      <td>Team_B</td>\n",
       "      <td>PWM</td>\n",
       "      <td>14</td>\n",
       "      <td>13.0</td>\n",
       "      <td>0.26770</td>\n",
       "      <td>0.189000</td>\n",
       "      <td>0.10030</td>\n",
       "      <td>0.461700</td>\n",
       "      <td>0.890800</td>\n",
       "    </tr>\n",
       "    <tr>\n",
       "      <th>1</th>\n",
       "      <td>Team_14</td>\n",
       "      <td>PWM</td>\n",
       "      <td>15</td>\n",
       "      <td>15.0</td>\n",
       "      <td>0.00000</td>\n",
       "      <td>0.000400</td>\n",
       "      <td>0.00040</td>\n",
       "      <td>0.003000</td>\n",
       "      <td>0.487000</td>\n",
       "    </tr>\n",
       "  </tbody>\n",
       "</table>\n",
       "</div>"
      ],
      "text/plain": [
       "         Team  Model type  Final Rank  Final Rank (average)  Pearson  \\\n",
       "6      Team_D       k-mer           1                   1.8  0.64130   \n",
       "8      Team_F       Other           2                   3.8  0.61030   \n",
       "7      Team_E         PWM           3                   4.0  0.63750   \n",
       "9      Team_G       k-mer           4                   4.6  0.57280   \n",
       "12     Team_J       Other           5                   5.0  0.61170   \n",
       "11     Team_I       Other           6                   5.8  0.58140   \n",
       "5      Team_C       Other           7                   8.2  0.51840   \n",
       "10     Team_H       Other           8                   8.4  0.46880   \n",
       "2      Team_9       Other           9                   8.8  0.49730   \n",
       "3      Team_A       k-mer          10                   9.4  0.53350   \n",
       "20  Your team  Your model          11                  10.0  0.51295   \n",
       "13     Team_K       k-mer          12                  11.0  0.46120   \n",
       "0     Team_12       k-mer          13                  11.2  0.46110   \n",
       "4      Team_B         PWM          14                  13.0  0.26770   \n",
       "1     Team_14         PWM          15                  15.0  0.00000   \n",
       "\n",
       "    Pearson_Log  Spearman  AUPR_8mer  AUROC_8mer  \n",
       "6      0.674200   0.63940   0.699700    0.994200  \n",
       "8      0.673200   0.65550   0.545600    0.976600  \n",
       "7      0.693600   0.67350   0.522300    0.952400  \n",
       "9      0.620700   0.57350   0.673900    0.994200  \n",
       "12     0.650000   0.62270   0.524400    0.964900  \n",
       "11     0.647500   0.69210   0.306000    0.943950  \n",
       "5      0.522700   0.48370   0.530400    0.974700  \n",
       "10     0.417100   0.36690   0.675900    0.990600  \n",
       "2      0.575000   0.56170   0.248400    0.940500  \n",
       "3      0.460500   0.43100   0.583700    0.924600  \n",
       "20     0.564724   0.55982   0.245946    0.919021  \n",
       "13     0.540200   0.53130   0.155900    0.930400  \n",
       "0      0.543800   0.53820   0.150300    0.929300  \n",
       "4      0.189000   0.10030   0.461700    0.890800  \n",
       "1      0.000400   0.00040   0.003000    0.487000  "
      ]
     },
     "execution_count": 8,
     "metadata": {},
     "output_type": "execute_result"
    }
   ],
   "source": [
    "#The other official team can be retrieved using \n",
    "c.get_table()"
   ]
  },
  {
   "cell_type": "code",
   "execution_count": 26,
   "metadata": {
    "collapsed": false
   },
   "outputs": [
    {
     "name": "stdout",
     "output_type": "stream",
     "text": [
      " [-----------------100%-----------------] 2 of 2 complete in 0.1 sec"
     ]
    },
    {
     "data": {
      "image/png": "[encoded data removed]",
      "text/plain": [
       "<matplotlib.figure.Figure at 0xbe9a0d0>"
      ]
     },
     "metadata": {},
     "output_type": "display_data"
    }
   ],
   "source": [
    "# This challenge implementation has a plotting function that shows the user prediction versus real values\n",
    "# using the different metrics shown above\n",
    "c.plot()"
   ]
  },
  {
   "cell_type": "code",
   "execution_count": null,
   "metadata": {
    "collapsed": true
   },
   "outputs": [],
   "source": []
  }
 ],
 "metadata": {
  "kernelspec": {
   "display_name": "Python 2",
   "language": "python",
   "name": "python2"
  },
  "language_info": {
   "codemirror_mode": {
    "name": "ipython",
    "version": 2
   },
   "file_extension": ".py",
   "mimetype": "text/x-python",
   "name": "python",
   "nbconvert_exporter": "python",
   "pygments_lexer": "ipython2",
   "version": "2.7.5"
  }
 },
 "nbformat": 4,
 "nbformat_minor": 0
}
